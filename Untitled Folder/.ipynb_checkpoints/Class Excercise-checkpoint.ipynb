{
 "cells": [
  {
   "cell_type": "code",
   "execution_count": 11,
   "metadata": {},
   "outputs": [],
   "source": [
    "import numpy as np\n",
    "import pandas as pd\n",
    "import scipy.stats as stats\n",
    "import matplotlib as plt\n"
   ]
  },
  {
   "cell_type": "markdown",
   "metadata": {},
   "source": [
    "single test vs population (sample vs population) example "
   ]
  },
  {
   "cell_type": "code",
   "execution_count": 16,
   "metadata": {},
   "outputs": [
    {
     "name": "stdout",
     "output_type": "stream",
     "text": [
      "53.00536\n",
      "48.305\n"
     ]
    }
   ],
   "source": [
    "np.random.seed(6) #so you do get the same results everytime you generate random numbers.\n",
    "population_ages1 = stats.poisson.rvs(loc=18, mu=35, size= 150000) #total population, loc is standard deviation \n",
    "population_ages2 = stats.poisson.rvs(loc=18, mu=10, size= 150000) #total population\n",
    "population_ages = np.concatenate((population_ages1, population_ages2))\n",
    "\n",
    "min_ages1 = stats.poisson.rvs(loc=18, mu=30, size= 100) #sample (subset)\n",
    "min_ages2 = stats.poisson.rvs(loc=18, mu=30, size= 100) #sample (subset)\n",
    "min_ages = np.concatenate((min_ages1, min_ages2))\n",
    "\n",
    "print(population_ages1.mean())\n",
    "print(min_ages.mean())"
   ]
  },
  {
   "cell_type": "markdown",
   "metadata": {},
   "source": [
    "## Apply T-Statistic "
   ]
  },
  {
   "cell_type": "markdown",
   "metadata": {},
   "source": [
    "sample vs sample example"
   ]
  },
  {
   "cell_type": "code",
   "execution_count": 17,
   "metadata": {},
   "outputs": [
    {
     "data": {
      "text/plain": [
       "Ttest_1sampResult(statistic=19.19995855491664, pvalue=3.5504581543615234e-47)"
      ]
     },
     "execution_count": 17,
     "metadata": {},
     "output_type": "execute_result"
    }
   ],
   "source": [
    "stats.ttest_1samp(a=min_ages, popmean=population_ages.mean()) #range of variability, smaller:wider, larger:thinner"
   ]
  },
  {
   "cell_type": "code",
   "execution_count": 26,
   "metadata": {},
   "outputs": [
    {
     "name": "stdout",
     "output_type": "stream",
     "text": [
      "50.7\n"
     ]
    }
   ],
   "source": [
    "np.random.seed(2)\n",
    "wisc1 = stats.poisson.rvs(loc = 18, mu = 33, size = 100)\n",
    "wisc2 = stats.poisson.rvs(loc = 18, mu = 33, size = 30)\n",
    "wisc_ages = np.concatenate((wisc1, wisc2))\n",
    "\n",
    "print(wisc_ages.mean())"
   ]
  },
  {
   "cell_type": "code",
   "execution_count": 27,
   "metadata": {},
   "outputs": [
    {
     "data": {
      "text/plain": [
       "Ttest_indResult(statistic=3.683539141653699, pvalue=0.0002770351486074643)"
      ]
     },
     "execution_count": 27,
     "metadata": {},
     "output_type": "execute_result"
    }
   ],
   "source": [
    "stats.ttest_ind(a = wisc_ages, b = min_ages, equal_var = False ) #range of variability, larger:wider, smaller:thinner"
   ]
  },
  {
   "cell_type": "markdown",
   "metadata": {},
   "source": [
    "determine how many people should be sampled to receive a good amount of variability \n",
    "group vs population?\n",
    "independeant groups?\n",
    "what are our primary \n",
    "paired t-test, reasonable independent results between the two"
   ]
  },
  {
   "cell_type": "markdown",
   "metadata": {},
   "source": [
    "paired test example"
   ]
  },
  {
   "cell_type": "code",
   "execution_count": 29,
   "metadata": {},
   "outputs": [],
   "source": [
    "np.random.seed(11)\n",
    "before = stats.norm.rvs(scale = 5, loc = -1.25, size = 100)\n",
    "after = before + stats.norm.rvs(scale = 5, loc = -1.25, size = 100)\n",
    "\n",
    "weight_df = pd.DataFrame({\"weight_before\":before,\n",
    "                          \"weight_after\": after,\n",
    "                          \"weight_change\": after - before})"
   ]
  },
  {
   "cell_type": "code",
   "execution_count": 32,
   "metadata": {},
   "outputs": [
    {
     "data": {
      "text/html": [
       "<div>\n",
       "<style scoped>\n",
       "    .dataframe tbody tr th:only-of-type {\n",
       "        vertical-align: middle;\n",
       "    }\n",
       "\n",
       "    .dataframe tbody tr th {\n",
       "        vertical-align: top;\n",
       "    }\n",
       "\n",
       "    .dataframe thead th {\n",
       "        text-align: right;\n",
       "    }\n",
       "</style>\n",
       "<table border=\"1\" class=\"dataframe\">\n",
       "  <thead>\n",
       "    <tr style=\"text-align: right;\">\n",
       "      <th></th>\n",
       "      <th>weight_before</th>\n",
       "      <th>weight_after</th>\n",
       "      <th>weight_change</th>\n",
       "    </tr>\n",
       "  </thead>\n",
       "  <tbody>\n",
       "    <tr>\n",
       "      <th>count</th>\n",
       "      <td>100.000000</td>\n",
       "      <td>100.000000</td>\n",
       "      <td>100.000000</td>\n",
       "    </tr>\n",
       "    <tr>\n",
       "      <th>mean</th>\n",
       "      <td>-1.192409</td>\n",
       "      <td>-2.422784</td>\n",
       "      <td>-1.230375</td>\n",
       "    </tr>\n",
       "    <tr>\n",
       "      <th>std</th>\n",
       "      <td>4.688757</td>\n",
       "      <td>6.616974</td>\n",
       "      <td>4.783696</td>\n",
       "    </tr>\n",
       "    <tr>\n",
       "      <th>min</th>\n",
       "      <td>-14.516593</td>\n",
       "      <td>-19.003106</td>\n",
       "      <td>-11.495286</td>\n",
       "    </tr>\n",
       "    <tr>\n",
       "      <th>25%</th>\n",
       "      <td>-4.513160</td>\n",
       "      <td>-6.275342</td>\n",
       "      <td>-4.046211</td>\n",
       "    </tr>\n",
       "    <tr>\n",
       "      <th>50%</th>\n",
       "      <td>-1.111532</td>\n",
       "      <td>-3.022943</td>\n",
       "      <td>-1.413463</td>\n",
       "    </tr>\n",
       "    <tr>\n",
       "      <th>75%</th>\n",
       "      <td>2.189524</td>\n",
       "      <td>2.005771</td>\n",
       "      <td>1.738673</td>\n",
       "    </tr>\n",
       "    <tr>\n",
       "      <th>max</th>\n",
       "      <td>9.533372</td>\n",
       "      <td>14.409241</td>\n",
       "      <td>9.759282</td>\n",
       "    </tr>\n",
       "  </tbody>\n",
       "</table>\n",
       "</div>"
      ],
      "text/plain": [
       "       weight_before  weight_after  weight_change\n",
       "count     100.000000    100.000000     100.000000\n",
       "mean       -1.192409     -2.422784      -1.230375\n",
       "std         4.688757      6.616974       4.783696\n",
       "min       -14.516593    -19.003106     -11.495286\n",
       "25%        -4.513160     -6.275342      -4.046211\n",
       "50%        -1.111532     -3.022943      -1.413463\n",
       "75%         2.189524      2.005771       1.738673\n",
       "max         9.533372     14.409241       9.759282"
      ]
     },
     "execution_count": 32,
     "metadata": {},
     "output_type": "execute_result"
    }
   ],
   "source": [
    "weight_df.describe()"
   ]
  },
  {
   "cell_type": "code",
   "execution_count": 33,
   "metadata": {},
   "outputs": [
    {
     "data": {
      "text/plain": [
       "Ttest_relResult(statistic=2.572017599856831, pvalue=0.011596444318439777)"
      ]
     },
     "execution_count": 33,
     "metadata": {},
     "output_type": "execute_result"
    }
   ],
   "source": [
    "stats.ttest_rel(a = before, b = after)"
   ]
  },
  {
   "cell_type": "markdown",
   "metadata": {},
   "source": [
    "https://clincalc.com/stats/samplesize.aspx"
   ]
  },
  {
   "cell_type": "code",
   "execution_count": null,
   "metadata": {},
   "outputs": [],
   "source": [
    "#make a case for why the ivestment is used\n",
    "#additive chart \n",
    "#communicate as much information in one chart "
   ]
  }
 ],
 "metadata": {
  "kernelspec": {
   "display_name": "Python 3",
   "language": "python",
   "name": "python3"
  },
  "language_info": {
   "codemirror_mode": {
    "name": "ipython",
    "version": 3
   },
   "file_extension": ".py",
   "mimetype": "text/x-python",
   "name": "python",
   "nbconvert_exporter": "python",
   "pygments_lexer": "ipython3",
   "version": "3.6.5"
  }
 },
 "nbformat": 4,
 "nbformat_minor": 2
}
